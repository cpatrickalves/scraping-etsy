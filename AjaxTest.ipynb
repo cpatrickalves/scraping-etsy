{
 "cells": [
  {
   "cell_type": "code",
   "execution_count": 1,
   "metadata": {},
   "outputs": [],
   "source": [
    "import requests\n",
    "\n",
    "cookies = {\n",
    "    'uaid': 'sAP7vHefE6jJvrsDbGklZvrkq-ljZACCGNc5RmA6cn5ytVJpYmaKkpVSlatpanx8aUFlsY93Sbalh0G-ubFvsa6zq3GOt5KOUnxefrmSVV5pTk4tAwA.'    \n",
    "}\n",
    "\n",
    "headers = {  \n",
    "    'x-csrf-token': '3:1549897497:9XIRfEbtgBGEHHdyl6VW3nno_bJw:98c271b297293f176aed5dacc8e60a2de27322fc525f9489dc54a34762b333f8',      \n",
    "}\n",
    "\n",
    "data = {\n",
    "  'stats_sample_rate': '',\n",
    "  'specs[reviews][]': 'Listzilla_ApiSpecs_Reviews',\n",
    "  'specs[reviews][1][listing_id]': '519048483',\n",
    "  'specs[reviews][1][shop_id]': '13648052',\n",
    "  'specs[reviews][1][render_complete]': 'true'\n",
    "}\n",
    "\n",
    "response = requests.post('https://www.etsy.com/api/v3/ajax/bespoke/member/neu/specs/reviews', headers=headers, cookies=cookies, data=data)\n"
   ]
  },
  {
   "cell_type": "code",
   "execution_count": 40,
   "metadata": {},
   "outputs": [
    {
     "name": "stdout",
     "output_type": "stream",
     "text": [
      "www.etsy.com/people/0svfagrm\n",
      "Feb 10, 2019\n",
      "5\n",
      "He arrived on schedule, and he was very well packaged. \n",
      "As soon as I unwrapped him I loved him straight away. \n",
      "I am amazed at the quality and finish. He was just perfect.  If you like Groot then you will love this baby Groot.  He is small but what else would you expect he is a baby after all. Great value for money.\n",
      "------------------------------\n",
      "www.etsy.com/people/tangatama\n",
      "Feb 8, 2019\n",
      "5\n",
      "super figurine elle est très  cool\n",
      "------------------------------\n",
      "www.etsy.com/people/dni4ltav\n",
      "Feb 8, 2019\n",
      "5\n",
      "Good painting and really good quality printing- very light as it is printed but so cute ☺️\n",
      "------------------------------\n",
      "www.etsy.com/people/amber2117\n",
      "Feb 6, 2019\n",
      "5\n",
      "This is the cutest thing I’ve ever purchased!!! I love it!!!! You can tell it’s hand painted and done very well!! No complaints at all :)\n",
      "------------------------------\n",
      "www.etsy.com/people/vhvlqmzr\n",
      "Feb 6, 2019\n",
      "5\n",
      "Had my hopes set high after I saw the other reviews and pics. Got the parcel in good time, also received a notification advising the item has been shipped. Got the parcel in one piece and Baby Groot is so adorable. Great art work and care taken when making him. Thank you... It lived up to my expectations 🙂👍\n",
      "------------------------------\n",
      "www.etsy.com/people/ahclegion\n",
      "Feb 5, 2019\n",
      "5\n",
      "\n",
      "------------------------------\n",
      "www.etsy.com/people/evelynevdlinden\n",
      "Feb 5, 2019\n",
      "5\n",
      "\n",
      "------------------------------\n",
      "www.etsy.com/people/bri9511\n",
      "Feb 4, 2019\n",
      "5\n",
      "\n",
      "------------------------------\n",
      "www.etsy.com/people/sarahshirilla\n",
      "Feb 1, 2019\n",
      "5\n",
      "Perfect. Exactly as described and so adorable.\n",
      "------------------------------\n",
      "www.etsy.com/people/rlnniqxf\n",
      "Jan 26, 2019\n",
      "5\n",
      "First time buyer of this shop.  Shipped on time.  Just adorable!!! Fits in Palm of your hand.  Feels like I'm truly holding baby Groot.  Details are so \"life like\" to his character.  You won't be disappointed. Got for my daughter for Christmas.  HIGHLY RECOMMEND.\n",
      "------------------------------\n"
     ]
    }
   ],
   "source": [
    "import json\n",
    "from parsel import Selector\n",
    "\n",
    "j = json.loads(response.content)\n",
    "html = j[\"output\"][\"reviews\"]\n",
    "\n",
    "sel = Selector(text=html)\n",
    "\n",
    "reviews_list = sel.xpath('//*[@class=\"listing-page__review col-group pl-xs-0 pr-xs-0\"]')\n",
    "for r in reviews_list:\n",
    "    reviewer_profile = r.xpath(\".//*[@class='display-block']/parent::*//@href\").extract_first()\n",
    "    review_date = r.xpath(\".//*[@class='text-link-underline display-inline-block mr-xs-1']/parent::*//text()\").extract()[2].strip()\n",
    "    reviewer_rating = r.xpath('.//input[@name=\"rating\"]/@value').extract_first()\n",
    "    review_content = \" \".join(r.xpath('.//div[@class=\"overflow-hidden\"]//text()').extract()).strip()\n",
    "    \n",
    "    print('www.etsy.com'+reviewer_profile)\n",
    "    print(review_date)\n",
    "    print(reviewer_rating)\n",
    "    print(review_content)\n",
    "    print('-'*30)\n",
    "    "
   ]
  },
  {
   "cell_type": "code",
   "execution_count": null,
   "metadata": {},
   "outputs": [],
   "source": []
  }
 ],
 "metadata": {
  "kernelspec": {
   "display_name": "Python 3",
   "language": "python",
   "name": "python3"
  },
  "language_info": {
   "codemirror_mode": {
    "name": "ipython",
    "version": 3
   },
   "file_extension": ".py",
   "mimetype": "text/x-python",
   "name": "python",
   "nbconvert_exporter": "python",
   "pygments_lexer": "ipython3",
   "version": "3.6.5"
  }
 },
 "nbformat": 4,
 "nbformat_minor": 2
}
